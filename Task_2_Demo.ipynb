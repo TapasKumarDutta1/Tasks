{
  "nbformat": 4,
  "nbformat_minor": 0,
  "metadata": {
    "colab": {
      "provenance": [],
      "authorship_tag": "ABX9TyPkXqCLaHMu7WwuyfI/NbqV",
      "include_colab_link": true
    },
    "kernelspec": {
      "name": "python3",
      "display_name": "Python 3"
    },
    "language_info": {
      "name": "python"
    }
  },
  "cells": [
    {
      "cell_type": "markdown",
      "metadata": {
        "id": "view-in-github",
        "colab_type": "text"
      },
      "source": [
        "<a href=\"https://colab.research.google.com/github/TapasKumarDutta1/Tasks/blob/main/Task_2_Demo.ipynb\" target=\"_parent\"><img src=\"https://colab.research.google.com/assets/colab-badge.svg\" alt=\"Open In Colab\"/></a>"
      ]
    },
    {
      "cell_type": "markdown",
      "source": [
        "## 1. Clone necessary code"
      ],
      "metadata": {
        "id": "fQSGksV6ink5"
      }
    },
    {
      "cell_type": "code",
      "execution_count": 1,
      "metadata": {
        "colab": {
          "base_uri": "https://localhost:8080/"
        },
        "id": "22LDizoZiKe-",
        "outputId": "96e06c74-b352-47bc-8ede-4d1dd1f5e0de"
      },
      "outputs": [
        {
          "output_type": "stream",
          "name": "stdout",
          "text": [
            "Cloning into 'Tasks'...\n",
            "remote: Enumerating objects: 50, done.\u001b[K\n",
            "remote: Counting objects: 100% (50/50), done.\u001b[K\n",
            "remote: Compressing objects: 100% (44/44), done.\u001b[K\n",
            "remote: Total 50 (delta 10), reused 0 (delta 0), pack-reused 0 (from 0)\u001b[K\n",
            "Receiving objects: 100% (50/50), 4.16 MiB | 8.18 MiB/s, done.\n",
            "Resolving deltas: 100% (10/10), done.\n"
          ]
        }
      ],
      "source": [
        "!git clone https://github.com/TapasKumarDutta1/Tasks.git"
      ]
    },
    {
      "cell_type": "markdown",
      "source": [
        "## 2. Move to specific folder"
      ],
      "metadata": {
        "id": "zqznMCuvirFO"
      }
    },
    {
      "cell_type": "code",
      "source": [
        "cd Tasks/Task2/"
      ],
      "metadata": {
        "colab": {
          "base_uri": "https://localhost:8080/"
        },
        "id": "aGObPb7LiNub",
        "outputId": "465dee75-619e-48a2-e775-21a8c24cb41d"
      },
      "execution_count": 2,
      "outputs": [
        {
          "output_type": "stream",
          "name": "stdout",
          "text": [
            "/content/Tasks/Task2\n"
          ]
        }
      ]
    },
    {
      "cell_type": "markdown",
      "source": [
        "## 3. Install necessary libraries"
      ],
      "metadata": {
        "id": "d8VndjexijTx"
      }
    },
    {
      "cell_type": "code",
      "source": [
        "!pip install dicom==0.9.9.post1\n",
        "!pip install pylibjpeg-libjpeg==2.3.0\n",
        "!pip install pylibjpeg==2.0.1\n",
        "!pip install gdcm==1.1\n",
        "!pip install pydicom==3.0.1\n",
        "!pip install open3d==0.19.0"
      ],
      "metadata": {
        "colab": {
          "base_uri": "https://localhost:8080/"
        },
        "id": "en8NVukeiQlt",
        "outputId": "341c293f-891a-4e14-aa7f-2d9c02b85ab8"
      },
      "execution_count": 3,
      "outputs": [
        {
          "output_type": "stream",
          "name": "stdout",
          "text": [
            "Collecting dicom==0.9.9.post1\n",
            "  Downloading dicom-0.9.9.post1-py3-none-any.whl.metadata (1.3 kB)\n",
            "Downloading dicom-0.9.9.post1-py3-none-any.whl (766 kB)\n",
            "\u001b[2K   \u001b[90m━━━━━━━━━━━━━━━━━━━━━━━━━━━━━━━━━━━━━━━━\u001b[0m \u001b[32m766.3/766.3 kB\u001b[0m \u001b[31m8.3 MB/s\u001b[0m eta \u001b[36m0:00:00\u001b[0m\n",
            "\u001b[?25hInstalling collected packages: dicom\n",
            "Successfully installed dicom-0.9.9.post1\n",
            "Collecting pylibjpeg-libjpeg==2.3.0\n",
            "  Downloading pylibjpeg_libjpeg-2.3.0-cp311-cp311-manylinux_2_17_x86_64.manylinux2014_x86_64.whl.metadata (4.8 kB)\n",
            "Requirement already satisfied: numpy<3.0,>=2.0 in /usr/local/lib/python3.11/dist-packages (from pylibjpeg-libjpeg==2.3.0) (2.0.2)\n",
            "Downloading pylibjpeg_libjpeg-2.3.0-cp311-cp311-manylinux_2_17_x86_64.manylinux2014_x86_64.whl (3.4 MB)\n",
            "\u001b[2K   \u001b[90m━━━━━━━━━━━━━━━━━━━━━━━━━━━━━━━━━━━━━━━━\u001b[0m \u001b[32m3.4/3.4 MB\u001b[0m \u001b[31m26.3 MB/s\u001b[0m eta \u001b[36m0:00:00\u001b[0m\n",
            "\u001b[?25hInstalling collected packages: pylibjpeg-libjpeg\n",
            "Successfully installed pylibjpeg-libjpeg-2.3.0\n",
            "Collecting pylibjpeg==2.0.1\n",
            "  Downloading pylibjpeg-2.0.1-py3-none-any.whl.metadata (7.8 kB)\n",
            "Requirement already satisfied: numpy in /usr/local/lib/python3.11/dist-packages (from pylibjpeg==2.0.1) (2.0.2)\n",
            "Downloading pylibjpeg-2.0.1-py3-none-any.whl (24 kB)\n",
            "Installing collected packages: pylibjpeg\n",
            "Successfully installed pylibjpeg-2.0.1\n",
            "Collecting gdcm==1.1\n",
            "  Downloading gdcm-1.1-py3-none-manylinux1_x86_64.whl.metadata (167 bytes)\n",
            "Downloading gdcm-1.1-py3-none-manylinux1_x86_64.whl (2.7 MB)\n",
            "\u001b[2K   \u001b[90m━━━━━━━━━━━━━━━━━━━━━━━━━━━━━━━━━━━━━━━━\u001b[0m \u001b[32m2.7/2.7 MB\u001b[0m \u001b[31m18.7 MB/s\u001b[0m eta \u001b[36m0:00:00\u001b[0m\n",
            "\u001b[?25hInstalling collected packages: gdcm\n",
            "Successfully installed gdcm-1.1\n",
            "Collecting pydicom==3.0.1\n",
            "  Downloading pydicom-3.0.1-py3-none-any.whl.metadata (9.4 kB)\n",
            "Downloading pydicom-3.0.1-py3-none-any.whl (2.4 MB)\n",
            "\u001b[2K   \u001b[90m━━━━━━━━━━━━━━━━━━━━━━━━━━━━━━━━━━━━━━━━\u001b[0m \u001b[32m2.4/2.4 MB\u001b[0m \u001b[31m22.0 MB/s\u001b[0m eta \u001b[36m0:00:00\u001b[0m\n",
            "\u001b[?25hInstalling collected packages: pydicom\n",
            "Successfully installed pydicom-3.0.1\n",
            "Collecting open3d==0.19.0\n",
            "  Downloading open3d-0.19.0-cp311-cp311-manylinux_2_31_x86_64.whl.metadata (4.3 kB)\n",
            "Requirement already satisfied: numpy>=1.18.0 in /usr/local/lib/python3.11/dist-packages (from open3d==0.19.0) (2.0.2)\n",
            "Collecting dash>=2.6.0 (from open3d==0.19.0)\n",
            "  Downloading dash-3.0.4-py3-none-any.whl.metadata (10 kB)\n",
            "Requirement already satisfied: werkzeug>=3.0.0 in /usr/local/lib/python3.11/dist-packages (from open3d==0.19.0) (3.1.3)\n",
            "Requirement already satisfied: flask>=3.0.0 in /usr/local/lib/python3.11/dist-packages (from open3d==0.19.0) (3.1.0)\n",
            "Requirement already satisfied: nbformat>=5.7.0 in /usr/local/lib/python3.11/dist-packages (from open3d==0.19.0) (5.10.4)\n",
            "Collecting configargparse (from open3d==0.19.0)\n",
            "  Downloading ConfigArgParse-1.7-py3-none-any.whl.metadata (23 kB)\n",
            "Collecting ipywidgets>=8.0.4 (from open3d==0.19.0)\n",
            "  Downloading ipywidgets-8.1.7-py3-none-any.whl.metadata (2.4 kB)\n",
            "Collecting addict (from open3d==0.19.0)\n",
            "  Downloading addict-2.4.0-py3-none-any.whl.metadata (1.0 kB)\n",
            "Requirement already satisfied: pillow>=9.3.0 in /usr/local/lib/python3.11/dist-packages (from open3d==0.19.0) (11.2.1)\n",
            "Requirement already satisfied: matplotlib>=3 in /usr/local/lib/python3.11/dist-packages (from open3d==0.19.0) (3.10.0)\n",
            "Requirement already satisfied: pandas>=1.0 in /usr/local/lib/python3.11/dist-packages (from open3d==0.19.0) (2.2.2)\n",
            "Requirement already satisfied: pyyaml>=5.4.1 in /usr/local/lib/python3.11/dist-packages (from open3d==0.19.0) (6.0.2)\n",
            "Requirement already satisfied: scikit-learn>=0.21 in /usr/local/lib/python3.11/dist-packages (from open3d==0.19.0) (1.6.1)\n",
            "Requirement already satisfied: tqdm in /usr/local/lib/python3.11/dist-packages (from open3d==0.19.0) (4.67.1)\n",
            "Collecting pyquaternion (from open3d==0.19.0)\n",
            "  Downloading pyquaternion-0.9.9-py3-none-any.whl.metadata (1.4 kB)\n",
            "Collecting flask>=3.0.0 (from open3d==0.19.0)\n",
            "  Downloading flask-3.0.3-py3-none-any.whl.metadata (3.2 kB)\n",
            "Collecting werkzeug>=3.0.0 (from open3d==0.19.0)\n",
            "  Downloading werkzeug-3.0.6-py3-none-any.whl.metadata (3.7 kB)\n",
            "Requirement already satisfied: plotly>=5.0.0 in /usr/local/lib/python3.11/dist-packages (from dash>=2.6.0->open3d==0.19.0) (5.24.1)\n",
            "Requirement already satisfied: importlib-metadata in /usr/local/lib/python3.11/dist-packages (from dash>=2.6.0->open3d==0.19.0) (8.7.0)\n",
            "Requirement already satisfied: typing-extensions>=4.1.1 in /usr/local/lib/python3.11/dist-packages (from dash>=2.6.0->open3d==0.19.0) (4.13.2)\n",
            "Requirement already satisfied: requests in /usr/local/lib/python3.11/dist-packages (from dash>=2.6.0->open3d==0.19.0) (2.32.3)\n",
            "Collecting retrying (from dash>=2.6.0->open3d==0.19.0)\n",
            "  Downloading retrying-1.3.4-py3-none-any.whl.metadata (6.9 kB)\n",
            "Requirement already satisfied: nest-asyncio in /usr/local/lib/python3.11/dist-packages (from dash>=2.6.0->open3d==0.19.0) (1.6.0)\n",
            "Requirement already satisfied: setuptools in /usr/local/lib/python3.11/dist-packages (from dash>=2.6.0->open3d==0.19.0) (75.2.0)\n",
            "Requirement already satisfied: Jinja2>=3.1.2 in /usr/local/lib/python3.11/dist-packages (from flask>=3.0.0->open3d==0.19.0) (3.1.6)\n",
            "Requirement already satisfied: itsdangerous>=2.1.2 in /usr/local/lib/python3.11/dist-packages (from flask>=3.0.0->open3d==0.19.0) (2.2.0)\n",
            "Requirement already satisfied: click>=8.1.3 in /usr/local/lib/python3.11/dist-packages (from flask>=3.0.0->open3d==0.19.0) (8.1.8)\n",
            "Requirement already satisfied: blinker>=1.6.2 in /usr/local/lib/python3.11/dist-packages (from flask>=3.0.0->open3d==0.19.0) (1.9.0)\n",
            "Collecting comm>=0.1.3 (from ipywidgets>=8.0.4->open3d==0.19.0)\n",
            "  Downloading comm-0.2.2-py3-none-any.whl.metadata (3.7 kB)\n",
            "Requirement already satisfied: ipython>=6.1.0 in /usr/local/lib/python3.11/dist-packages (from ipywidgets>=8.0.4->open3d==0.19.0) (7.34.0)\n",
            "Requirement already satisfied: traitlets>=4.3.1 in /usr/local/lib/python3.11/dist-packages (from ipywidgets>=8.0.4->open3d==0.19.0) (5.7.1)\n",
            "Collecting widgetsnbextension~=4.0.14 (from ipywidgets>=8.0.4->open3d==0.19.0)\n",
            "  Downloading widgetsnbextension-4.0.14-py3-none-any.whl.metadata (1.6 kB)\n",
            "Requirement already satisfied: jupyterlab_widgets~=3.0.15 in /usr/local/lib/python3.11/dist-packages (from ipywidgets>=8.0.4->open3d==0.19.0) (3.0.15)\n",
            "Requirement already satisfied: contourpy>=1.0.1 in /usr/local/lib/python3.11/dist-packages (from matplotlib>=3->open3d==0.19.0) (1.3.2)\n",
            "Requirement already satisfied: cycler>=0.10 in /usr/local/lib/python3.11/dist-packages (from matplotlib>=3->open3d==0.19.0) (0.12.1)\n",
            "Requirement already satisfied: fonttools>=4.22.0 in /usr/local/lib/python3.11/dist-packages (from matplotlib>=3->open3d==0.19.0) (4.57.0)\n",
            "Requirement already satisfied: kiwisolver>=1.3.1 in /usr/local/lib/python3.11/dist-packages (from matplotlib>=3->open3d==0.19.0) (1.4.8)\n",
            "Requirement already satisfied: packaging>=20.0 in /usr/local/lib/python3.11/dist-packages (from matplotlib>=3->open3d==0.19.0) (24.2)\n",
            "Requirement already satisfied: pyparsing>=2.3.1 in /usr/local/lib/python3.11/dist-packages (from matplotlib>=3->open3d==0.19.0) (3.2.3)\n",
            "Requirement already satisfied: python-dateutil>=2.7 in /usr/local/lib/python3.11/dist-packages (from matplotlib>=3->open3d==0.19.0) (2.9.0.post0)\n",
            "Requirement already satisfied: fastjsonschema>=2.15 in /usr/local/lib/python3.11/dist-packages (from nbformat>=5.7.0->open3d==0.19.0) (2.21.1)\n",
            "Requirement already satisfied: jsonschema>=2.6 in /usr/local/lib/python3.11/dist-packages (from nbformat>=5.7.0->open3d==0.19.0) (4.23.0)\n",
            "Requirement already satisfied: jupyter-core!=5.0.*,>=4.12 in /usr/local/lib/python3.11/dist-packages (from nbformat>=5.7.0->open3d==0.19.0) (5.7.2)\n",
            "Requirement already satisfied: pytz>=2020.1 in /usr/local/lib/python3.11/dist-packages (from pandas>=1.0->open3d==0.19.0) (2025.2)\n",
            "Requirement already satisfied: tzdata>=2022.7 in /usr/local/lib/python3.11/dist-packages (from pandas>=1.0->open3d==0.19.0) (2025.2)\n",
            "Requirement already satisfied: scipy>=1.6.0 in /usr/local/lib/python3.11/dist-packages (from scikit-learn>=0.21->open3d==0.19.0) (1.15.3)\n",
            "Requirement already satisfied: joblib>=1.2.0 in /usr/local/lib/python3.11/dist-packages (from scikit-learn>=0.21->open3d==0.19.0) (1.5.0)\n",
            "Requirement already satisfied: threadpoolctl>=3.1.0 in /usr/local/lib/python3.11/dist-packages (from scikit-learn>=0.21->open3d==0.19.0) (3.6.0)\n",
            "Requirement already satisfied: MarkupSafe>=2.1.1 in /usr/local/lib/python3.11/dist-packages (from werkzeug>=3.0.0->open3d==0.19.0) (3.0.2)\n",
            "Collecting jedi>=0.16 (from ipython>=6.1.0->ipywidgets>=8.0.4->open3d==0.19.0)\n",
            "  Downloading jedi-0.19.2-py2.py3-none-any.whl.metadata (22 kB)\n",
            "Requirement already satisfied: decorator in /usr/local/lib/python3.11/dist-packages (from ipython>=6.1.0->ipywidgets>=8.0.4->open3d==0.19.0) (4.4.2)\n",
            "Requirement already satisfied: pickleshare in /usr/local/lib/python3.11/dist-packages (from ipython>=6.1.0->ipywidgets>=8.0.4->open3d==0.19.0) (0.7.5)\n",
            "Requirement already satisfied: prompt-toolkit!=3.0.0,!=3.0.1,<3.1.0,>=2.0.0 in /usr/local/lib/python3.11/dist-packages (from ipython>=6.1.0->ipywidgets>=8.0.4->open3d==0.19.0) (3.0.51)\n",
            "Requirement already satisfied: pygments in /usr/local/lib/python3.11/dist-packages (from ipython>=6.1.0->ipywidgets>=8.0.4->open3d==0.19.0) (2.19.1)\n",
            "Requirement already satisfied: backcall in /usr/local/lib/python3.11/dist-packages (from ipython>=6.1.0->ipywidgets>=8.0.4->open3d==0.19.0) (0.2.0)\n",
            "Requirement already satisfied: matplotlib-inline in /usr/local/lib/python3.11/dist-packages (from ipython>=6.1.0->ipywidgets>=8.0.4->open3d==0.19.0) (0.1.7)\n",
            "Requirement already satisfied: pexpect>4.3 in /usr/local/lib/python3.11/dist-packages (from ipython>=6.1.0->ipywidgets>=8.0.4->open3d==0.19.0) (4.9.0)\n",
            "Requirement already satisfied: attrs>=22.2.0 in /usr/local/lib/python3.11/dist-packages (from jsonschema>=2.6->nbformat>=5.7.0->open3d==0.19.0) (25.3.0)\n",
            "Requirement already satisfied: jsonschema-specifications>=2023.03.6 in /usr/local/lib/python3.11/dist-packages (from jsonschema>=2.6->nbformat>=5.7.0->open3d==0.19.0) (2025.4.1)\n",
            "Requirement already satisfied: referencing>=0.28.4 in /usr/local/lib/python3.11/dist-packages (from jsonschema>=2.6->nbformat>=5.7.0->open3d==0.19.0) (0.36.2)\n",
            "Requirement already satisfied: rpds-py>=0.7.1 in /usr/local/lib/python3.11/dist-packages (from jsonschema>=2.6->nbformat>=5.7.0->open3d==0.19.0) (0.24.0)\n",
            "Requirement already satisfied: platformdirs>=2.5 in /usr/local/lib/python3.11/dist-packages (from jupyter-core!=5.0.*,>=4.12->nbformat>=5.7.0->open3d==0.19.0) (4.3.8)\n",
            "Requirement already satisfied: tenacity>=6.2.0 in /usr/local/lib/python3.11/dist-packages (from plotly>=5.0.0->dash>=2.6.0->open3d==0.19.0) (9.1.2)\n",
            "Requirement already satisfied: six>=1.5 in /usr/local/lib/python3.11/dist-packages (from python-dateutil>=2.7->matplotlib>=3->open3d==0.19.0) (1.17.0)\n",
            "Requirement already satisfied: zipp>=3.20 in /usr/local/lib/python3.11/dist-packages (from importlib-metadata->dash>=2.6.0->open3d==0.19.0) (3.21.0)\n",
            "Requirement already satisfied: charset-normalizer<4,>=2 in /usr/local/lib/python3.11/dist-packages (from requests->dash>=2.6.0->open3d==0.19.0) (3.4.2)\n",
            "Requirement already satisfied: idna<4,>=2.5 in /usr/local/lib/python3.11/dist-packages (from requests->dash>=2.6.0->open3d==0.19.0) (3.10)\n",
            "Requirement already satisfied: urllib3<3,>=1.21.1 in /usr/local/lib/python3.11/dist-packages (from requests->dash>=2.6.0->open3d==0.19.0) (2.4.0)\n",
            "Requirement already satisfied: certifi>=2017.4.17 in /usr/local/lib/python3.11/dist-packages (from requests->dash>=2.6.0->open3d==0.19.0) (2025.4.26)\n",
            "Requirement already satisfied: parso<0.9.0,>=0.8.4 in /usr/local/lib/python3.11/dist-packages (from jedi>=0.16->ipython>=6.1.0->ipywidgets>=8.0.4->open3d==0.19.0) (0.8.4)\n",
            "Requirement already satisfied: ptyprocess>=0.5 in /usr/local/lib/python3.11/dist-packages (from pexpect>4.3->ipython>=6.1.0->ipywidgets>=8.0.4->open3d==0.19.0) (0.7.0)\n",
            "Requirement already satisfied: wcwidth in /usr/local/lib/python3.11/dist-packages (from prompt-toolkit!=3.0.0,!=3.0.1,<3.1.0,>=2.0.0->ipython>=6.1.0->ipywidgets>=8.0.4->open3d==0.19.0) (0.2.13)\n",
            "Downloading open3d-0.19.0-cp311-cp311-manylinux_2_31_x86_64.whl (447.7 MB)\n",
            "\u001b[2K   \u001b[90m━━━━━━━━━━━━━━━━━━━━━━━━━━━━━━━━━━━━━━━━\u001b[0m \u001b[32m447.7/447.7 MB\u001b[0m \u001b[31m3.8 MB/s\u001b[0m eta \u001b[36m0:00:00\u001b[0m\n",
            "\u001b[?25hDownloading dash-3.0.4-py3-none-any.whl (7.9 MB)\n",
            "\u001b[2K   \u001b[90m━━━━━━━━━━━━━━━━━━━━━━━━━━━━━━━━━━━━━━━━\u001b[0m \u001b[32m7.9/7.9 MB\u001b[0m \u001b[31m78.8 MB/s\u001b[0m eta \u001b[36m0:00:00\u001b[0m\n",
            "\u001b[?25hDownloading flask-3.0.3-py3-none-any.whl (101 kB)\n",
            "\u001b[2K   \u001b[90m━━━━━━━━━━━━━━━━━━━━━━━━━━━━━━━━━━━━━━━━\u001b[0m \u001b[32m101.7/101.7 kB\u001b[0m \u001b[31m6.8 MB/s\u001b[0m eta \u001b[36m0:00:00\u001b[0m\n",
            "\u001b[?25hDownloading ipywidgets-8.1.7-py3-none-any.whl (139 kB)\n",
            "\u001b[2K   \u001b[90m━━━━━━━━━━━━━━━━━━━━━━━━━━━━━━━━━━━━━━━━\u001b[0m \u001b[32m139.8/139.8 kB\u001b[0m \u001b[31m10.0 MB/s\u001b[0m eta \u001b[36m0:00:00\u001b[0m\n",
            "\u001b[?25hDownloading werkzeug-3.0.6-py3-none-any.whl (227 kB)\n",
            "\u001b[2K   \u001b[90m━━━━━━━━━━━━━━━━━━━━━━━━━━━━━━━━━━━━━━━━\u001b[0m \u001b[32m228.0/228.0 kB\u001b[0m \u001b[31m14.1 MB/s\u001b[0m eta \u001b[36m0:00:00\u001b[0m\n",
            "\u001b[?25hDownloading addict-2.4.0-py3-none-any.whl (3.8 kB)\n",
            "Downloading ConfigArgParse-1.7-py3-none-any.whl (25 kB)\n",
            "Downloading pyquaternion-0.9.9-py3-none-any.whl (14 kB)\n",
            "Downloading comm-0.2.2-py3-none-any.whl (7.2 kB)\n",
            "Downloading widgetsnbextension-4.0.14-py3-none-any.whl (2.2 MB)\n",
            "\u001b[2K   \u001b[90m━━━━━━━━━━━━━━━━━━━━━━━━━━━━━━━━━━━━━━━━\u001b[0m \u001b[32m2.2/2.2 MB\u001b[0m \u001b[31m60.4 MB/s\u001b[0m eta \u001b[36m0:00:00\u001b[0m\n",
            "\u001b[?25hDownloading retrying-1.3.4-py3-none-any.whl (11 kB)\n",
            "Downloading jedi-0.19.2-py2.py3-none-any.whl (1.6 MB)\n",
            "\u001b[2K   \u001b[90m━━━━━━━━━━━━━━━━━━━━━━━━━━━━━━━━━━━━━━━━\u001b[0m \u001b[32m1.6/1.6 MB\u001b[0m \u001b[31m61.0 MB/s\u001b[0m eta \u001b[36m0:00:00\u001b[0m\n",
            "\u001b[?25hInstalling collected packages: addict, widgetsnbextension, werkzeug, retrying, pyquaternion, jedi, configargparse, comm, flask, ipywidgets, dash, open3d\n",
            "  Attempting uninstall: widgetsnbextension\n",
            "    Found existing installation: widgetsnbextension 3.6.10\n",
            "    Uninstalling widgetsnbextension-3.6.10:\n",
            "      Successfully uninstalled widgetsnbextension-3.6.10\n",
            "  Attempting uninstall: werkzeug\n",
            "    Found existing installation: Werkzeug 3.1.3\n",
            "    Uninstalling Werkzeug-3.1.3:\n",
            "      Successfully uninstalled Werkzeug-3.1.3\n",
            "  Attempting uninstall: flask\n",
            "    Found existing installation: Flask 3.1.0\n",
            "    Uninstalling Flask-3.1.0:\n",
            "      Successfully uninstalled Flask-3.1.0\n",
            "  Attempting uninstall: ipywidgets\n",
            "    Found existing installation: ipywidgets 7.7.1\n",
            "    Uninstalling ipywidgets-7.7.1:\n",
            "      Successfully uninstalled ipywidgets-7.7.1\n",
            "Successfully installed addict-2.4.0 comm-0.2.2 configargparse-1.7 dash-3.0.4 flask-3.0.3 ipywidgets-8.1.7 jedi-0.19.2 open3d-0.19.0 pyquaternion-0.9.9 retrying-1.3.4 werkzeug-3.0.6 widgetsnbextension-4.0.14\n"
          ]
        }
      ]
    },
    {
      "cell_type": "markdown",
      "source": [
        "## 4. Use predefined functions to plot a red dot on nose tip"
      ],
      "metadata": {
        "id": "GPjYUyG7iwue"
      }
    },
    {
      "cell_type": "markdown",
      "source": [
        "### Note: Plots may not render correctly in Google Colab.\n",
        "### For full visualization, please run this notebook in a local Jupyter environment.\n"
      ],
      "metadata": {
        "id": "JGovypkCk1Qd"
      }
    },
    {
      "cell_type": "code",
      "source": [
        "from task2 import plot_nose_tip\n",
        "input='someone2.ply'\n",
        "plot_nose_tip(input)"
      ],
      "metadata": {
        "colab": {
          "base_uri": "https://localhost:8080/",
          "height": 124
        },
        "id": "R63SYEVaiR2x",
        "outputId": "a751787c-921e-4891-8ee0-6ad5ca1a77bd"
      },
      "execution_count": 4,
      "outputs": [
        {
          "output_type": "stream",
          "name": "stdout",
          "text": [
            "Nose tip (farthest point along Z-axis): [ 0.50867561 -4.43142152 65.73066786]\n",
            "\u001b[1;33m[Open3D WARNING] GLFW Error: Failed to detect any supported platform\u001b[0;m\n",
            "\u001b[1;33m[Open3D WARNING] GLFW initialized for headless rendering.\u001b[0;m\n",
            "\u001b[1;33m[Open3D WARNING] GLFW Error: OSMesa: Library not found\u001b[0;m\n",
            "\u001b[1;33m[Open3D WARNING] Failed to create window\u001b[0;m\n",
            "\u001b[1;33m[Open3D WARNING] [DrawGeometries] Failed creating OpenGL window.\u001b[0;m\n"
          ]
        }
      ]
    },
    {
      "cell_type": "code",
      "source": [
        "!wget https://drive.google.com/file/d/19fkwk6jxSCDH8NIkeAtSEaSCXafVwg0Z/view?usp=sharing"
      ],
      "metadata": {
        "id": "JicFinjnjR2Q",
        "colab": {
          "base_uri": "https://localhost:8080/"
        },
        "outputId": "9a0f95db-469d-4b76-d9eb-b179a28fc051"
      },
      "execution_count": 5,
      "outputs": [
        {
          "output_type": "stream",
          "name": "stdout",
          "text": [
            "--2025-05-13 21:33:40--  https://drive.google.com/file/d/19fkwk6jxSCDH8NIkeAtSEaSCXafVwg0Z/view?usp=sharing\n",
            "Resolving drive.google.com (drive.google.com)... 173.194.215.138, 173.194.215.100, 173.194.215.139, ...\n",
            "Connecting to drive.google.com (drive.google.com)|173.194.215.138|:443... connected.\n",
            "HTTP request sent, awaiting response... 200 OK\n",
            "Length: unspecified [text/html]\n",
            "Saving to: ‘view?usp=sharing’\n",
            "\n",
            "view?usp=sharing        [ <=>                ]  95.46K  --.-KB/s    in 0.004s  \n",
            "\n",
            "2025-05-13 21:33:41 (26.4 MB/s) - ‘view?usp=sharing’ saved [97752]\n",
            "\n"
          ]
        }
      ]
    },
    {
      "cell_type": "markdown",
      "source": [
        "## 5. (Bonus) Use predefined functions to plot nose tip for DICOM"
      ],
      "metadata": {
        "id": "5SkLDLEQi51R"
      }
    },
    {
      "cell_type": "markdown",
      "source": [
        "## Download and unzip facial DICOM folder"
      ],
      "metadata": {
        "id": "o0uWy557jfFV"
      }
    },
    {
      "cell_type": "code",
      "source": [
        "!gdown --id 19fkwk6jxSCDH8NIkeAtSEaSCXafVwg0Z"
      ],
      "metadata": {
        "colab": {
          "base_uri": "https://localhost:8080/"
        },
        "id": "yln373gvjZSg",
        "outputId": "2efef396-fd8f-487a-da3f-26bd30ab9009"
      },
      "execution_count": 6,
      "outputs": [
        {
          "output_type": "stream",
          "name": "stdout",
          "text": [
            "/usr/local/lib/python3.11/dist-packages/gdown/__main__.py:140: FutureWarning: Option `--id` was deprecated in version 4.3.1 and will be removed in 5.0. You don't need to pass it anymore to use a file ID.\n",
            "  warnings.warn(\n",
            "Downloading...\n",
            "From (original): https://drive.google.com/uc?id=19fkwk6jxSCDH8NIkeAtSEaSCXafVwg0Z\n",
            "From (redirected): https://drive.google.com/uc?id=19fkwk6jxSCDH8NIkeAtSEaSCXafVwg0Z&confirm=t&uuid=59f5fcfd-e4e7-4d81-893b-1a6268966822\n",
            "To: /content/Tasks/Task2/DICOM_facial.zip\n",
            "100% 30.2M/30.2M [00:00<00:00, 60.3MB/s]\n"
          ]
        }
      ]
    },
    {
      "cell_type": "code",
      "source": [
        "!unzip DICOM_facial.zip"
      ],
      "metadata": {
        "colab": {
          "base_uri": "https://localhost:8080/"
        },
        "id": "Tz0mDXfPjepw",
        "outputId": "316a9a51-713b-4e41-e264-1d654a9ea85d"
      },
      "execution_count": 7,
      "outputs": [
        {
          "output_type": "stream",
          "name": "stdout",
          "text": [
            "Archive:  DICOM_facial.zip\n",
            "   creating: Database/\n",
            "  inflating: __MACOSX/._Database     \n",
            "  inflating: Database/15576.dcm      \n",
            "  inflating: __MACOSX/Database/._15576.dcm  \n",
            "  inflating: Database/15006.dcm      \n",
            "  inflating: __MACOSX/Database/._15006.dcm  \n",
            "  inflating: Database/16296.dcm      \n",
            "  inflating: __MACOSX/Database/._16296.dcm  \n",
            "  inflating: Database/12966.dcm      \n",
            "  inflating: __MACOSX/Database/._12966.dcm  \n",
            "  inflating: Database/14046.dcm      \n",
            "  inflating: __MACOSX/Database/._14046.dcm  \n",
            "  inflating: Database/16686.dcm      \n",
            "  inflating: __MACOSX/Database/._16686.dcm  \n",
            "  inflating: Database/13926.dcm      \n",
            "  inflating: __MACOSX/Database/._13926.dcm  \n",
            "  inflating: Database/11856.dcm      \n",
            "  inflating: __MACOSX/Database/._11856.dcm  \n",
            "  inflating: Database/14286.dcm      \n",
            "  inflating: __MACOSX/Database/._14286.dcm  \n",
            "  inflating: Database/17016.dcm      \n",
            "  inflating: __MACOSX/Database/._17016.dcm  \n",
            "  inflating: Database/16446.dcm      \n",
            "  inflating: __MACOSX/Database/._16446.dcm  \n",
            "  inflating: Database/13476.dcm      \n",
            "  inflating: __MACOSX/Database/._13476.dcm  \n",
            "  inflating: Database/16056.dcm      \n",
            "  inflating: __MACOSX/Database/._16056.dcm  \n",
            "  inflating: Database/12756.dcm      \n",
            "  inflating: __MACOSX/Database/._12756.dcm  \n",
            "  inflating: Database/14496.dcm      \n",
            "  inflating: __MACOSX/Database/._14496.dcm  \n",
            "  inflating: Database/12636.dcm      \n",
            "  inflating: __MACOSX/Database/._12636.dcm  \n",
            "  inflating: Database/13266.dcm      \n",
            "  inflating: __MACOSX/Database/._13266.dcm  \n",
            "  inflating: Database/13716.dcm      \n",
            "  inflating: __MACOSX/Database/._13716.dcm  \n",
            "  inflating: Database/15366.dcm      \n",
            "  inflating: __MACOSX/Database/._15366.dcm  \n",
            "  inflating: Database/14736.dcm      \n",
            "  inflating: __MACOSX/Database/._14736.dcm  \n",
            "  inflating: Database/12186.dcm      \n",
            "  inflating: __MACOSX/Database/._12186.dcm  \n",
            "  inflating: Database/11706.dcm      \n",
            "  inflating: __MACOSX/Database/._11706.dcm  \n",
            "  inflating: Database/15216.dcm      \n",
            "  inflating: __MACOSX/Database/._15216.dcm  \n",
            "  inflating: Database/14646.dcm      \n",
            "  inflating: __MACOSX/Database/._14646.dcm  \n",
            "  inflating: Database/16086.dcm      \n",
            "  inflating: __MACOSX/Database/._16086.dcm  \n",
            "  inflating: Database/15996.dcm      \n",
            "  inflating: __MACOSX/Database/._15996.dcm  \n",
            "  inflating: Database/15606.dcm      \n",
            "  inflating: __MACOSX/Database/._15606.dcm  \n",
            "  inflating: Database/14256.dcm      \n",
            "  inflating: __MACOSX/Database/._14256.dcm  \n",
            "  inflating: Database/11886.dcm      \n",
            "  inflating: __MACOSX/Database/._11886.dcm  \n",
            "  inflating: Database/16656.dcm      \n",
            "  inflating: __MACOSX/Database/._16656.dcm  \n",
            "  inflating: Database/16326.dcm      \n",
            "  inflating: __MACOSX/Database/._16326.dcm  \n",
            "  inflating: Database/13896.dcm      \n",
            "  inflating: __MACOSX/Database/._13896.dcm  \n",
            "  inflating: Database/13116.dcm      \n",
            "  inflating: __MACOSX/Database/._13116.dcm  \n",
            "  inflating: Database/12546.dcm      \n",
            "  inflating: __MACOSX/Database/._12546.dcm  \n",
            "  inflating: Database/17166.dcm      \n",
            "  inflating: __MACOSX/Database/._17166.dcm  \n",
            "  inflating: Database/16536.dcm      \n",
            "  inflating: __MACOSX/Database/._16536.dcm  \n",
            "  inflating: Database/12036.dcm      \n",
            "  inflating: __MACOSX/Database/._12036.dcm  \n",
            "  inflating: Database/13506.dcm      \n",
            "  inflating: __MACOSX/Database/._13506.dcm  \n",
            "  inflating: Database/12156.dcm      \n",
            "  inflating: __MACOSX/Database/._12156.dcm  \n",
            "  inflating: Database/11675.dcm      \n",
            "  inflating: __MACOSX/Database/._11675.dcm  \n",
            "  inflating: Database/12426.dcm      \n",
            "  inflating: __MACOSX/Database/._12426.dcm  \n",
            "  inflating: Database/14916.dcm      \n",
            "  inflating: __MACOSX/Database/._14916.dcm  \n",
            "  inflating: Database/12396.dcm      \n",
            "  inflating: __MACOSX/Database/._12396.dcm  \n",
            "  inflating: Database/16866.dcm      \n",
            "  inflating: __MACOSX/Database/._16866.dcm  \n",
            "  inflating: Database/12816.dcm      \n",
            "  inflating: __MACOSX/Database/._12816.dcm  \n",
            "  inflating: Database/14526.dcm      \n",
            "  inflating: __MACOSX/Database/._14526.dcm  \n",
            "  inflating: Database/12786.dcm      \n",
            "  inflating: __MACOSX/Database/._12786.dcm  \n",
            "  inflating: Database/14136.dcm      \n",
            "  inflating: __MACOSX/Database/._14136.dcm  \n",
            "  inflating: Database/16746.dcm      \n",
            "  inflating: __MACOSX/Database/._16746.dcm  \n",
            "  inflating: Database/12246.dcm      \n",
            "  inflating: __MACOSX/Database/._12246.dcm  \n",
            "  inflating: Database/16236.dcm      \n",
            "  inflating: __MACOSX/Database/._16236.dcm  \n",
            "  inflating: Database/16356.dcm      \n",
            "  inflating: __MACOSX/Database/._16356.dcm  \n",
            "  inflating: Database/13206.dcm      \n",
            "  inflating: __MACOSX/Database/._13206.dcm  \n",
            "  inflating: Database/16626.dcm      \n",
            "  inflating: __MACOSX/Database/._16626.dcm  \n",
            "  inflating: Database/13986.dcm      \n",
            "  inflating: __MACOSX/Database/._13986.dcm  \n",
            "  inflating: Database/13776.dcm      \n",
            "  inflating: __MACOSX/Database/._13776.dcm  \n",
            "  inflating: Database/15306.dcm      \n",
            "  inflating: __MACOSX/Database/._15306.dcm  \n",
            "  inflating: Database/14226.dcm      \n",
            "  inflating: __MACOSX/Database/._14226.dcm  \n",
            "  inflating: Database/14346.dcm      \n",
            "  inflating: __MACOSX/Database/._14346.dcm  \n",
            "  inflating: Database/11766.dcm      \n",
            "  inflating: __MACOSX/Database/._11766.dcm  \n",
            "  inflating: Database/15516.dcm      \n",
            "  inflating: __MACOSX/Database/._15516.dcm  \n",
            "  inflating: Database/14436.dcm      \n",
            "  inflating: __MACOSX/Database/._14436.dcm  \n",
            "  inflating: Database/15066.dcm      \n",
            "  inflating: __MACOSX/Database/._15066.dcm  \n",
            "  inflating: Database/12906.dcm      \n",
            "  inflating: __MACOSX/Database/._12906.dcm  \n",
            "  inflating: Database/14556.dcm      \n",
            "  inflating: __MACOSX/Database/._14556.dcm  \n",
            "  inflating: Database/12696.dcm      \n",
            "  inflating: __MACOSX/Database/._12696.dcm  \n",
            "  inflating: Database/14796.dcm      \n",
            "  inflating: __MACOSX/Database/._14796.dcm  \n",
            "  inflating: Database/12456.dcm      \n",
            "  inflating: __MACOSX/Database/._12456.dcm  \n",
            "  inflating: Database/15846.dcm      \n",
            "  inflating: __MACOSX/Database/._15846.dcm  \n",
            "  inflating: Database/17076.dcm      \n",
            "  inflating: __MACOSX/Database/._17076.dcm  \n",
            "  inflating: Database/12126.dcm      \n",
            "  inflating: __MACOSX/Database/._12126.dcm  \n",
            "  inflating: Database/13416.dcm      \n",
            "  inflating: __MACOSX/Database/._13416.dcm  \n",
            "  inflating: Database/13176.dcm      \n",
            "  inflating: __MACOSX/Database/._13176.dcm  \n",
            "  inflating: Database/16026.dcm      \n",
            "  inflating: __MACOSX/Database/._16026.dcm  \n",
            "  inflating: Database/11946.dcm      \n",
            "  inflating: __MACOSX/Database/._11946.dcm  \n",
            "  inflating: Database/17106.dcm      \n",
            "  inflating: __MACOSX/Database/._17106.dcm  \n",
            "  inflating: Database/15936.dcm      \n",
            "  inflating: __MACOSX/Database/._15936.dcm  \n",
            "  inflating: Database/13566.dcm      \n",
            "  inflating: __MACOSX/Database/._13566.dcm  \n",
            "  inflating: Database/16146.dcm      \n",
            "  inflating: __MACOSX/Database/._16146.dcm  \n",
            "  inflating: Database/14976.dcm      \n",
            "  inflating: __MACOSX/Database/._14976.dcm  \n",
            "  inflating: Database/11826.dcm      \n",
            "  inflating: __MACOSX/Database/._11826.dcm  \n",
            "  inflating: Database/13956.dcm      \n",
            "  inflating: __MACOSX/Database/._13956.dcm  \n",
            "  inflating: Database/16806.dcm      \n",
            "  inflating: __MACOSX/Database/._16806.dcm  \n",
            "  inflating: Database/16386.dcm      \n",
            "  inflating: __MACOSX/Database/._16386.dcm  \n",
            "  inflating: Database/12876.dcm      \n",
            "  inflating: __MACOSX/Database/._12876.dcm  \n",
            "  inflating: Database/13836.dcm      \n",
            "  inflating: __MACOSX/Database/._13836.dcm  \n",
            "  inflating: Database/15276.dcm      \n",
            "  inflating: __MACOSX/Database/._15276.dcm  \n",
            "  inflating: Database/12096.dcm      \n",
            "  inflating: __MACOSX/Database/._12096.dcm  \n",
            "  inflating: Database/16596.dcm      \n",
            "  inflating: __MACOSX/Database/._16596.dcm  \n",
            "  inflating: Database/15666.dcm      \n",
            "  inflating: __MACOSX/Database/._15666.dcm  \n",
            "  inflating: Database/12486.dcm      \n",
            "  inflating: __MACOSX/Database/._12486.dcm  \n",
            "  inflating: Database/12336.dcm      \n",
            "  inflating: __MACOSX/Database/._12336.dcm  \n",
            "  inflating: Database/14586.dcm      \n",
            "  inflating: __MACOSX/Database/._14586.dcm  \n",
            "  inflating: Database/12726.dcm      \n",
            "  inflating: __MACOSX/Database/._12726.dcm  \n",
            "  inflating: Database/14196.dcm      \n",
            "  inflating: __MACOSX/Database/._14196.dcm  \n",
            "  inflating: Database/14616.dcm      \n",
            "  inflating: __MACOSX/Database/._14616.dcm  \n",
            "  inflating: Database/15246.dcm      \n",
            "  inflating: __MACOSX/Database/._15246.dcm  \n",
            "  inflating: Database/13596.dcm      \n",
            "  inflating: __MACOSX/Database/._13596.dcm  \n",
            "  inflating: Database/17256.dcm      \n",
            "  inflating: __MACOSX/Database/._17256.dcm  \n",
            "  inflating: Database/12306.dcm      \n",
            "  inflating: __MACOSX/Database/._12306.dcm  \n",
            "  inflating: Database/12516.dcm      \n",
            "  inflating: __MACOSX/Database/._12516.dcm  \n",
            "  inflating: Database/13146.dcm      \n",
            "  inflating: __MACOSX/Database/._13146.dcm  \n",
            "  inflating: Database/11976.dcm      \n",
            "  inflating: __MACOSX/Database/._11976.dcm  \n",
            "  inflating: Database/14826.dcm      \n",
            "  inflating: __MACOSX/Database/._14826.dcm  \n",
            "  inflating: Database/16566.dcm      \n",
            "  inflating: __MACOSX/Database/._16566.dcm  \n",
            "  inflating: Database/12066.dcm      \n",
            "  inflating: __MACOSX/Database/._12066.dcm  \n",
            "  inflating: Database/17136.dcm      \n",
            "  inflating: __MACOSX/Database/._17136.dcm  \n",
            "  inflating: Database/15906.dcm      \n",
            "  inflating: __MACOSX/Database/._15906.dcm  \n",
            "  inflating: Database/15696.dcm      \n",
            "  inflating: __MACOSX/Database/._15696.dcm  \n",
            "  inflating: Database/16176.dcm      \n",
            "  inflating: __MACOSX/Database/._16176.dcm  \n",
            "  inflating: Database/13026.dcm      \n",
            "  inflating: __MACOSX/Database/._13026.dcm  \n",
            "  inflating: Database/14946.dcm      \n",
            "  inflating: __MACOSX/Database/._14946.dcm  \n",
            "  inflating: Database/16836.dcm      \n",
            "  inflating: __MACOSX/Database/._16836.dcm  \n",
            "  inflating: Database/15456.dcm      \n",
            "  inflating: __MACOSX/Database/._15456.dcm  \n",
            "  inflating: Database/12846.dcm      \n",
            "  inflating: __MACOSX/Database/._12846.dcm  \n",
            "  inflating: Database/15126.dcm      \n",
            "  inflating: __MACOSX/Database/._15126.dcm  \n",
            "  inflating: Database/13386.dcm      \n",
            "  inflating: __MACOSX/Database/._13386.dcm  \n",
            "  inflating: Database/16956.dcm      \n",
            "  inflating: __MACOSX/Database/._16956.dcm  \n",
            "  inflating: Database/13806.dcm      \n",
            "  inflating: __MACOSX/Database/._13806.dcm  \n",
            "  inflating: Database/14166.dcm      \n",
            "  inflating: __MACOSX/Database/._14166.dcm  \n",
            "  inflating: Database/14406.dcm      \n",
            "  inflating: __MACOSX/Database/._14406.dcm  \n",
            "  inflating: Database/12936.dcm      \n",
            "  inflating: __MACOSX/Database/._12936.dcm  \n",
            "  inflating: Database/14016.dcm      \n",
            "  inflating: __MACOSX/Database/._14016.dcm  \n",
            "  inflating: Database/17286.dcm      \n",
            "  inflating: __MACOSX/Database/._17286.dcm  \n",
            "  inflating: Database/15876.dcm      \n",
            "  inflating: __MACOSX/Database/._15876.dcm  \n",
            "  inflating: Database/16416.dcm      \n",
            "  inflating: __MACOSX/Database/._16416.dcm  \n",
            "  inflating: Database/17046.dcm      \n",
            "  inflating: __MACOSX/Database/._17046.dcm  \n",
            "  inflating: Database/11796.dcm      \n",
            "  inflating: __MACOSX/Database/._11796.dcm  \n",
            "  inflating: Database/13626.dcm      \n",
            "  inflating: __MACOSX/Database/._13626.dcm  \n",
            "  inflating: Database/16986.dcm      \n",
            "  inflating: __MACOSX/Database/._16986.dcm  \n",
            "  inflating: Database/16776.dcm      \n",
            "  inflating: __MACOSX/Database/._16776.dcm  \n",
            "  inflating: Database/12276.dcm      \n",
            "  inflating: __MACOSX/Database/._12276.dcm  \n",
            "  inflating: Database/13356.dcm      \n",
            "  inflating: __MACOSX/Database/._13356.dcm  \n",
            "  inflating: Database/16206.dcm      \n",
            "  inflating: __MACOSX/Database/._16206.dcm  \n",
            "  inflating: Database/15096.dcm      \n",
            "  inflating: __MACOSX/Database/._15096.dcm  \n",
            "  inflating: Database/13236.dcm      \n",
            "  inflating: __MACOSX/Database/._13236.dcm  \n",
            "  inflating: Database/12666.dcm      \n",
            "  inflating: __MACOSX/Database/._12666.dcm  \n",
            "  inflating: Database/13746.dcm      \n",
            "  inflating: __MACOSX/Database/._13746.dcm  \n",
            "  inflating: Database/15486.dcm      \n",
            "  inflating: __MACOSX/Database/._15486.dcm  \n",
            "  inflating: Database/14766.dcm      \n",
            "  inflating: __MACOSX/Database/._14766.dcm  \n",
            "  inflating: Database/15336.dcm      \n",
            "  inflating: __MACOSX/Database/._15336.dcm  \n",
            "  inflating: Database/14376.dcm      \n",
            "  inflating: __MACOSX/Database/._14376.dcm  \n",
            "  inflating: Database/15726.dcm      \n",
            "  inflating: __MACOSX/Database/._15726.dcm  \n",
            "  inflating: Database/12576.dcm      \n",
            "  inflating: __MACOSX/Database/._12576.dcm  \n",
            "  inflating: Database/11916.dcm      \n",
            "  inflating: __MACOSX/Database/._11916.dcm  \n",
            "  inflating: Database/16506.dcm      \n",
            "  inflating: __MACOSX/Database/._16506.dcm  \n",
            "  inflating: Database/12006.dcm      \n",
            "  inflating: __MACOSX/Database/._12006.dcm  \n",
            "  inflating: Database/15966.dcm      \n",
            "  inflating: __MACOSX/Database/._15966.dcm  \n",
            "  inflating: Database/13536.dcm      \n",
            "  inflating: __MACOSX/Database/._13536.dcm  \n",
            "  inflating: Database/16116.dcm      \n",
            "  inflating: __MACOSX/Database/._16116.dcm  \n",
            "  inflating: Database/13866.dcm      \n",
            "  inflating: __MACOSX/Database/._13866.dcm  \n",
            "  inflating: Database/14106.dcm      \n",
            "  inflating: __MACOSX/Database/._14106.dcm  \n",
            "  inflating: Database/14676.dcm      \n",
            "  inflating: __MACOSX/Database/._14676.dcm  \n",
            "  inflating: Database/14886.dcm      \n",
            "  inflating: __MACOSX/Database/._14886.dcm  \n",
            "  inflating: Database/15756.dcm      \n",
            "  inflating: __MACOSX/Database/._15756.dcm  \n",
            "  inflating: Database/17196.dcm      \n",
            "  inflating: __MACOSX/Database/._17196.dcm  \n",
            "  inflating: Database/15636.dcm      \n",
            "  inflating: __MACOSX/Database/._15636.dcm  \n",
            "  inflating: Database/13086.dcm      \n",
            "  inflating: __MACOSX/Database/._13086.dcm  \n",
            "  inflating: Database/16896.dcm      \n",
            "  inflating: __MACOSX/Database/._16896.dcm  \n",
            "  inflating: Database/12366.dcm      \n",
            "  inflating: __MACOSX/Database/._12366.dcm  \n",
            "  inflating: Database/15186.dcm      \n",
            "  inflating: __MACOSX/Database/._15186.dcm  \n",
            "  inflating: Database/13326.dcm      \n",
            "  inflating: __MACOSX/Database/._13326.dcm  \n",
            "  inflating: Database/13656.dcm      \n",
            "  inflating: __MACOSX/Database/._13656.dcm  \n",
            "  inflating: Database/16716.dcm      \n",
            "  inflating: __MACOSX/Database/._16716.dcm  \n",
            "  inflating: Database/12216.dcm      \n",
            "  inflating: __MACOSX/Database/._12216.dcm  \n",
            "  inflating: Database/12996.dcm      \n",
            "  inflating: __MACOSX/Database/._12996.dcm  \n",
            "  inflating: Database/16266.dcm      \n",
            "  inflating: __MACOSX/Database/._16266.dcm  \n",
            "  inflating: Database/12606.dcm      \n",
            "  inflating: __MACOSX/Database/._12606.dcm  \n",
            "  inflating: Database/17226.dcm      \n",
            "  inflating: __MACOSX/Database/._17226.dcm  \n",
            "  inflating: Database/14706.dcm      \n",
            "  inflating: __MACOSX/Database/._14706.dcm  \n",
            "  inflating: Database/14316.dcm      \n",
            "  inflating: __MACOSX/Database/._14316.dcm  \n",
            "  inflating: Database/11736.dcm      \n",
            "  inflating: __MACOSX/Database/._11736.dcm  \n",
            "  inflating: Database/15546.dcm      \n",
            "  inflating: __MACOSX/Database/._15546.dcm  \n",
            "  inflating: Database/13686.dcm      \n",
            "  inflating: __MACOSX/Database/._13686.dcm  \n",
            "  inflating: Database/16926.dcm      \n",
            "  inflating: __MACOSX/Database/._16926.dcm  \n",
            "  inflating: Database/15036.dcm      \n",
            "  inflating: __MACOSX/Database/._15036.dcm  \n",
            "  inflating: Database/14466.dcm      \n",
            "  inflating: __MACOSX/Database/._14466.dcm  \n",
            "  inflating: Database/15156.dcm      \n",
            "  inflating: __MACOSX/Database/._15156.dcm  \n",
            "  inflating: Database/13296.dcm      \n",
            "  inflating: __MACOSX/Database/._13296.dcm  \n",
            "  inflating: Database/15426.dcm      \n",
            "  inflating: __MACOSX/Database/._15426.dcm  \n",
            "  inflating: Database/14076.dcm      \n",
            "  inflating: __MACOSX/Database/._14076.dcm  \n",
            "  inflating: Database/15396.dcm      \n",
            "  inflating: __MACOSX/Database/._15396.dcm  \n",
            "  inflating: Database/13056.dcm      \n",
            "  inflating: __MACOSX/Database/._13056.dcm  \n",
            "  inflating: Database/15816.dcm      \n",
            "  inflating: __MACOSX/Database/._15816.dcm  \n",
            "  inflating: Database/16476.dcm      \n",
            "  inflating: __MACOSX/Database/._16476.dcm  \n",
            "  inflating: Database/15786.dcm      \n",
            "  inflating: __MACOSX/Database/._15786.dcm  \n",
            "  inflating: Database/13446.dcm      \n",
            "  inflating: __MACOSX/Database/._13446.dcm  \n",
            "  inflating: Database/14856.dcm      \n",
            "  inflating: __MACOSX/Database/._14856.dcm  \n"
          ]
        }
      ]
    },
    {
      "cell_type": "code",
      "source": [
        "from task2 import plot_nose_tip\n",
        "input='Database'\n",
        "plot_nose_tip(input)"
      ],
      "metadata": {
        "colab": {
          "base_uri": "https://localhost:8080/"
        },
        "id": "FvvrgZOtig0T",
        "outputId": "46163c4e-6cfe-4aee-caf2-4953105c6e7d"
      },
      "execution_count": 8,
      "outputs": [
        {
          "output_type": "stream",
          "name": "stdout",
          "text": [
            "Processing DICOM directory: Database\n",
            "Nose tip (farthest point along Z-axis): [ -1.31839722 -17.97131584 209.12683682]\n",
            "\u001b[1;33m[Open3D WARNING] GLFW initialized for headless rendering.\u001b[0;m\n",
            "\u001b[1;33m[Open3D WARNING] GLFW Error: OSMesa: Library not found\u001b[0;m\n",
            "\u001b[1;33m[Open3D WARNING] Failed to create window\u001b[0;m\n",
            "\u001b[1;33m[Open3D WARNING] [DrawGeometries] Failed creating OpenGL window.\u001b[0;m\n"
          ]
        }
      ]
    },
    {
      "cell_type": "code",
      "source": [],
      "metadata": {
        "id": "tsfwzwdijsOY"
      },
      "execution_count": 8,
      "outputs": []
    }
  ]
}